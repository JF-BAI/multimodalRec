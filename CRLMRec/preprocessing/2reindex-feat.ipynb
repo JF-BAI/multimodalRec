{
 "cells": [
  {
   "cell_type": "markdown",
   "metadata": {
    "collapsed": false
   },
   "source": [
    "# 利用rating2inter.ipynb中U/I的index对features进行一一对应(meta-text)\n",
    "- Reindex item feature ID with IDs generated in 0rating2inter.ipynb"
   ]
  },
  {
   "cell_type": "code",
   "execution_count": 1,
   "metadata": {
    "collapsed": true
   },
   "outputs": [],
   "source": [
    "import os\n",
    "import pandas as pd"
   ]
  },
  {
   "cell_type": "code",
   "execution_count": 2,
   "metadata": {
    "collapsed": false,
    "pycharm": {
     "name": "#%%\n"
    }
   },
   "outputs": [
    {
     "data": {
      "text/plain": [
       "'/home/bjf/bjf_projects/MMRec/data/pet'"
      ]
     },
     "execution_count": 2,
     "metadata": {},
     "output_type": "execute_result"
    }
   ],
   "source": [
    "os.chdir('/home/bjf/bjf_projects/MMRec/data/pet')\n",
    "os.getcwd()"
   ]
  },
  {
   "cell_type": "code",
   "execution_count": 3,
   "metadata": {
    "collapsed": false,
    "pycharm": {
     "name": "#%%\n"
    }
   },
   "outputs": [
    {
     "name": "stdout",
     "output_type": "stream",
     "text": [
      "shape: (8510, 2)\n"
     ]
    },
    {
     "data": {
      "text/html": [
       "<div>\n",
       "<style scoped>\n",
       "    .dataframe tbody tr th:only-of-type {\n",
       "        vertical-align: middle;\n",
       "    }\n",
       "\n",
       "    .dataframe tbody tr th {\n",
       "        vertical-align: top;\n",
       "    }\n",
       "\n",
       "    .dataframe thead th {\n",
       "        text-align: right;\n",
       "    }\n",
       "</style>\n",
       "<table border=\"1\" class=\"dataframe\">\n",
       "  <thead>\n",
       "    <tr style=\"text-align: right;\">\n",
       "      <th></th>\n",
       "      <th>asin</th>\n",
       "      <th>itemID</th>\n",
       "    </tr>\n",
       "  </thead>\n",
       "  <tbody>\n",
       "    <tr>\n",
       "      <th>0</th>\n",
       "      <td>1223000893</td>\n",
       "      <td>0</td>\n",
       "    </tr>\n",
       "    <tr>\n",
       "      <th>1</th>\n",
       "      <td>4847676011</td>\n",
       "      <td>1</td>\n",
       "    </tr>\n",
       "    <tr>\n",
       "      <th>2</th>\n",
       "      <td>9376674824</td>\n",
       "      <td>2</td>\n",
       "    </tr>\n",
       "    <tr>\n",
       "      <th>3</th>\n",
       "      <td>B00002N8FK</td>\n",
       "      <td>3</td>\n",
       "    </tr>\n",
       "  </tbody>\n",
       "</table>\n",
       "</div>"
      ],
      "text/plain": [
       "         asin  itemID\n",
       "0  1223000893       0\n",
       "1  4847676011       1\n",
       "2  9376674824       2\n",
       "3  B00002N8FK       3"
      ]
     },
     "execution_count": 3,
     "metadata": {},
     "output_type": "execute_result"
    }
   ],
   "source": [
    "# load item mapping\n",
    "i_id_mapping = 'i_id_mapping.csv'\n",
    "df = pd.read_csv(i_id_mapping, sep='\\t')\n",
    "print(f'shape: {df.shape}')\n",
    "df[:4]"
   ]
  },
  {
   "cell_type": "code",
   "execution_count": 4,
   "metadata": {
    "collapsed": false,
    "pycharm": {
     "name": "#%%\n"
    }
   },
   "outputs": [
    {
     "name": "stdout",
     "output_type": "stream",
     "text": [
      "0 Extracting U-I interactions.\n",
      "Total records: (110707, 9)\n"
     ]
    },
    {
     "data": {
      "text/html": [
       "<div>\n",
       "<style scoped>\n",
       "    .dataframe tbody tr th:only-of-type {\n",
       "        vertical-align: middle;\n",
       "    }\n",
       "\n",
       "    .dataframe tbody tr th {\n",
       "        vertical-align: top;\n",
       "    }\n",
       "\n",
       "    .dataframe thead th {\n",
       "        text-align: right;\n",
       "    }\n",
       "</style>\n",
       "<table border=\"1\" class=\"dataframe\">\n",
       "  <thead>\n",
       "    <tr style=\"text-align: right;\">\n",
       "      <th></th>\n",
       "      <th>asin</th>\n",
       "      <th>related</th>\n",
       "      <th>title</th>\n",
       "      <th>price</th>\n",
       "      <th>salesRank</th>\n",
       "      <th>imUrl</th>\n",
       "      <th>brand</th>\n",
       "      <th>categories</th>\n",
       "      <th>description</th>\n",
       "    </tr>\n",
       "  </thead>\n",
       "  <tbody>\n",
       "    <tr>\n",
       "      <th>0</th>\n",
       "      <td>0615553605</td>\n",
       "      <td>{'also_bought': ['0836269195', '1931993807', '...</td>\n",
       "      <td>Pet Qwerks Treat Cookbook with Cutters</td>\n",
       "      <td>10.95</td>\n",
       "      <td>{'Pet Supplies': 34134}</td>\n",
       "      <td>http://ecx.images-amazon.com/images/I/41yroPoJ...</td>\n",
       "      <td>Pet Qwerks</td>\n",
       "      <td>[[Pet Supplies, Dogs, Toys]]</td>\n",
       "      <td>Know exactly what your dog is eating with 101 ...</td>\n",
       "    </tr>\n",
       "    <tr>\n",
       "      <th>1</th>\n",
       "      <td>0615583474</td>\n",
       "      <td>{'also_viewed': ['1937406679', '1936319284', '...</td>\n",
       "      <td>It's A Cat's Life</td>\n",
       "      <td>NaN</td>\n",
       "      <td>{'Pet Supplies': 452691}</td>\n",
       "      <td>http://ecx.images-amazon.com/images/I/51%2BBp0...</td>\n",
       "      <td>NaN</td>\n",
       "      <td>[[Pet Supplies]]</td>\n",
       "      <td>An Interactive Cat Book, by Howie \"The World's...</td>\n",
       "    </tr>\n",
       "    <tr>\n",
       "      <th>2</th>\n",
       "      <td>0972585419</td>\n",
       "      <td>{'also_bought': ['B0002FP328', 'B0002FP32I', '...</td>\n",
       "      <td>Feathered Phonics The Easy Way To Teach Your B...</td>\n",
       "      <td>0.92</td>\n",
       "      <td>{'Pet Supplies': 21104}</td>\n",
       "      <td>http://ecx.images-amazon.com/images/I/61tAtKN0...</td>\n",
       "      <td>Pet Media</td>\n",
       "      <td>[[Pet Supplies, Pet Supplies: International Sh...</td>\n",
       "      <td>Volume 1: 96 Words &amp; Phrases! This is the CD t...</td>\n",
       "    </tr>\n",
       "  </tbody>\n",
       "</table>\n",
       "</div>"
      ],
      "text/plain": [
       "         asin                                            related  \\\n",
       "0  0615553605  {'also_bought': ['0836269195', '1931993807', '...   \n",
       "1  0615583474  {'also_viewed': ['1937406679', '1936319284', '...   \n",
       "2  0972585419  {'also_bought': ['B0002FP328', 'B0002FP32I', '...   \n",
       "\n",
       "                                               title  price  \\\n",
       "0             Pet Qwerks Treat Cookbook with Cutters  10.95   \n",
       "1                                  It's A Cat's Life    NaN   \n",
       "2  Feathered Phonics The Easy Way To Teach Your B...   0.92   \n",
       "\n",
       "                  salesRank  \\\n",
       "0   {'Pet Supplies': 34134}   \n",
       "1  {'Pet Supplies': 452691}   \n",
       "2   {'Pet Supplies': 21104}   \n",
       "\n",
       "                                               imUrl       brand  \\\n",
       "0  http://ecx.images-amazon.com/images/I/41yroPoJ...  Pet Qwerks   \n",
       "1  http://ecx.images-amazon.com/images/I/51%2BBp0...         NaN   \n",
       "2  http://ecx.images-amazon.com/images/I/61tAtKN0...   Pet Media   \n",
       "\n",
       "                                          categories  \\\n",
       "0                       [[Pet Supplies, Dogs, Toys]]   \n",
       "1                                   [[Pet Supplies]]   \n",
       "2  [[Pet Supplies, Pet Supplies: International Sh...   \n",
       "\n",
       "                                         description  \n",
       "0  Know exactly what your dog is eating with 101 ...  \n",
       "1  An Interactive Cat Book, by Howie \"The World's...  \n",
       "2  Volume 1: 96 Words & Phrases! This is the CD t...  "
      ]
     },
     "execution_count": 4,
     "metadata": {},
     "output_type": "execute_result"
    }
   ],
   "source": [
    "'从数据集meta文件中提取出U-I交互'\n",
    "import gzip, json\n",
    "meta_file = 'meta_Pet_Supplies.json.gz'# 定义meta文件路径\n",
    "\n",
    "print('0 Extracting U-I interactions.')# 打印任务开始信息\n",
    "\n",
    "def parse(path):#解析指定路径的压缩文件，并逐行生成文件内容。每行内容被解析为字典形式\n",
    "  g = gzip.open(path, 'rb')\n",
    "  for l in g:\n",
    "    yield eval(l)\n",
    "\n",
    "def getDF(path):#从指定路径的压缩文件中读取数据，并转换为DataFrame。\n",
    "  i = 0\n",
    "  df = {}\n",
    "  for d in parse(path):\n",
    "    df[i] = d\n",
    "    i += 1\n",
    "  return pd.DataFrame.from_dict(df, orient='index')\n",
    "\n",
    "meta_df = getDF(meta_file)\n",
    "\n",
    "print(f'Total records: {meta_df.shape}')\n",
    "meta_df[:3]"
   ]
  },
  {
   "cell_type": "code",
   "execution_count": 5,
   "metadata": {
    "collapsed": false,
    "pycharm": {
     "name": "#%%\n"
    }
   },
   "outputs": [
    {
     "name": "stdout",
     "output_type": "stream",
     "text": [
      "shape: (8510, 10)\n"
     ]
    },
    {
     "data": {
      "text/html": [
       "<div>\n",
       "<style scoped>\n",
       "    .dataframe tbody tr th:only-of-type {\n",
       "        vertical-align: middle;\n",
       "    }\n",
       "\n",
       "    .dataframe tbody tr th {\n",
       "        vertical-align: top;\n",
       "    }\n",
       "\n",
       "    .dataframe thead th {\n",
       "        text-align: right;\n",
       "    }\n",
       "</style>\n",
       "<table border=\"1\" class=\"dataframe\">\n",
       "  <thead>\n",
       "    <tr style=\"text-align: right;\">\n",
       "      <th></th>\n",
       "      <th>asin</th>\n",
       "      <th>related</th>\n",
       "      <th>title</th>\n",
       "      <th>price</th>\n",
       "      <th>salesRank</th>\n",
       "      <th>imUrl</th>\n",
       "      <th>brand</th>\n",
       "      <th>categories</th>\n",
       "      <th>description</th>\n",
       "      <th>itemID</th>\n",
       "    </tr>\n",
       "  </thead>\n",
       "  <tbody>\n",
       "    <tr>\n",
       "      <th>14</th>\n",
       "      <td>1223000893</td>\n",
       "      <td>{'also_bought': ['B000G1KNPK', 'B00BYHJ6UI', '...</td>\n",
       "      <td>Cat Sitter DVD Trilogy - Vol 1, Vol 2 and Vol 3</td>\n",
       "      <td>29.50</td>\n",
       "      <td>{'Pet Supplies': 39514}</td>\n",
       "      <td>http://ecx.images-amazon.com/images/I/41yr4bsw...</td>\n",
       "      <td>NaN</td>\n",
       "      <td>[[Pet Supplies, Cats, Toys]]</td>\n",
       "      <td>This combo pack provides you with all 3 Cat Si...</td>\n",
       "      <td>0</td>\n",
       "    </tr>\n",
       "    <tr>\n",
       "      <th>65</th>\n",
       "      <td>4847676011</td>\n",
       "      <td>{'also_bought': ['B006YFZXGG', 'B002KMDNE6', '...</td>\n",
       "      <td>Natural Toothpaste - 2-1/2 oz.for dogs</td>\n",
       "      <td>6.83</td>\n",
       "      <td>{'Pet Supplies': 6424}</td>\n",
       "      <td>http://ecx.images-amazon.com/images/I/41RnSg%2...</td>\n",
       "      <td>St. Jon</td>\n",
       "      <td>[[Pet Supplies, Dogs, Health Supplies, Dental ...</td>\n",
       "      <td>In this day and age, we're more concerned and ...</td>\n",
       "      <td>1</td>\n",
       "    </tr>\n",
       "  </tbody>\n",
       "</table>\n",
       "</div>"
      ],
      "text/plain": [
       "          asin                                            related  \\\n",
       "14  1223000893  {'also_bought': ['B000G1KNPK', 'B00BYHJ6UI', '...   \n",
       "65  4847676011  {'also_bought': ['B006YFZXGG', 'B002KMDNE6', '...   \n",
       "\n",
       "                                              title  price  \\\n",
       "14  Cat Sitter DVD Trilogy - Vol 1, Vol 2 and Vol 3  29.50   \n",
       "65           Natural Toothpaste - 2-1/2 oz.for dogs   6.83   \n",
       "\n",
       "                  salesRank  \\\n",
       "14  {'Pet Supplies': 39514}   \n",
       "65   {'Pet Supplies': 6424}   \n",
       "\n",
       "                                                imUrl    brand  \\\n",
       "14  http://ecx.images-amazon.com/images/I/41yr4bsw...      NaN   \n",
       "65  http://ecx.images-amazon.com/images/I/41RnSg%2...  St. Jon   \n",
       "\n",
       "                                           categories  \\\n",
       "14                       [[Pet Supplies, Cats, Toys]]   \n",
       "65  [[Pet Supplies, Dogs, Health Supplies, Dental ...   \n",
       "\n",
       "                                          description  itemID  \n",
       "14  This combo pack provides you with all 3 Cat Si...       0  \n",
       "65  In this day and age, we're more concerned and ...       1  "
      ]
     },
     "execution_count": 5,
     "metadata": {},
     "output_type": "execute_result"
    }
   ],
   "source": [
    "# remapping\n",
    "# 重新映射asin到itemID\n",
    "# 创建一个字典，将asin映射到itemID\n",
    "map_dict = dict(zip(df['asin'], df['itemID']))\n",
    "# 使用字典将meta_df中的asin转换为itemID\n",
    "meta_df['itemID'] = meta_df['asin'].map(map_dict)\n",
    "meta_df.dropna(subset=['itemID'], inplace=True)# 删除那些映射后为NaN的行\n",
    "meta_df['itemID'] = meta_df['itemID'].astype('int64')# 将itemID的数据类型转换为整型\n",
    "#meta_df['description'] = meta_df['description'].fillna(\" \")# 将description列中的NaN值填充为空格\n",
    "meta_df.sort_values(by=['itemID'], inplace=True)# 按照itemID排序\n",
    "\n",
    "print(f'shape: {meta_df.shape}')\n",
    "meta_df[:2]"
   ]
  },
  {
   "cell_type": "code",
   "execution_count": 6,
   "metadata": {
    "collapsed": false,
    "pycharm": {
     "name": "#%%\n"
    }
   },
   "outputs": [
    {
     "name": "stdout",
     "output_type": "stream",
     "text": [
      "new column names: ['itemID', 'asin', 'related', 'title', 'price', 'salesRank', 'imUrl', 'brand', 'categories', 'description']\n"
     ]
    }
   ],
   "source": [
    "ori_cols = meta_df.columns.tolist()# 将元数据 DataFrame 的列名转换为列表，以便后续操作\n",
    "\n",
    "ret_cols = [ori_cols[-1]] + ori_cols[:-1]# 重新排列列名，将最后一个列名移到第一个，其余列名顺序后移\n",
    "print(f'new column names: {ret_cols}')# 打印新的列名顺序"
   ]
  },
  {
   "cell_type": "code",
   "execution_count": 7,
   "metadata": {
    "collapsed": false,
    "pycharm": {
     "name": "#%%\n"
    }
   },
   "outputs": [
    {
     "data": {
      "text/html": [
       "<div>\n",
       "<style scoped>\n",
       "    .dataframe tbody tr th:only-of-type {\n",
       "        vertical-align: middle;\n",
       "    }\n",
       "\n",
       "    .dataframe tbody tr th {\n",
       "        vertical-align: top;\n",
       "    }\n",
       "\n",
       "    .dataframe thead th {\n",
       "        text-align: right;\n",
       "    }\n",
       "</style>\n",
       "<table border=\"1\" class=\"dataframe\">\n",
       "  <thead>\n",
       "    <tr style=\"text-align: right;\">\n",
       "      <th></th>\n",
       "      <th>asin</th>\n",
       "      <th>related</th>\n",
       "      <th>title</th>\n",
       "      <th>price</th>\n",
       "      <th>salesRank</th>\n",
       "      <th>imUrl</th>\n",
       "      <th>brand</th>\n",
       "      <th>categories</th>\n",
       "      <th>description</th>\n",
       "      <th>itemID</th>\n",
       "    </tr>\n",
       "  </thead>\n",
       "  <tbody>\n",
       "    <tr>\n",
       "      <th>14</th>\n",
       "      <td>1223000893</td>\n",
       "      <td>{'also_bought': ['B000G1KNPK', 'B00BYHJ6UI', '...</td>\n",
       "      <td>Cat Sitter DVD Trilogy - Vol 1, Vol 2 and Vol 3</td>\n",
       "      <td>29.50</td>\n",
       "      <td>{'Pet Supplies': 39514}</td>\n",
       "      <td>http://ecx.images-amazon.com/images/I/41yr4bsw...</td>\n",
       "      <td>NaN</td>\n",
       "      <td>[[Pet Supplies, Cats, Toys]]</td>\n",
       "      <td>This combo pack provides you with all 3 Cat Si...</td>\n",
       "      <td>0</td>\n",
       "    </tr>\n",
       "    <tr>\n",
       "      <th>65</th>\n",
       "      <td>4847676011</td>\n",
       "      <td>{'also_bought': ['B006YFZXGG', 'B002KMDNE6', '...</td>\n",
       "      <td>Natural Toothpaste - 2-1/2 oz.for dogs</td>\n",
       "      <td>6.83</td>\n",
       "      <td>{'Pet Supplies': 6424}</td>\n",
       "      <td>http://ecx.images-amazon.com/images/I/41RnSg%2...</td>\n",
       "      <td>St. Jon</td>\n",
       "      <td>[[Pet Supplies, Dogs, Health Supplies, Dental ...</td>\n",
       "      <td>In this day and age, we're more concerned and ...</td>\n",
       "      <td>1</td>\n",
       "    </tr>\n",
       "    <tr>\n",
       "      <th>96</th>\n",
       "      <td>9376674824</td>\n",
       "      <td>{'also_bought': ['B000JMJ4CE', 'B003FVK47A', '...</td>\n",
       "      <td>Solid Gold S.E.P. (Stop Eating Poop) 3.5oz</td>\n",
       "      <td>10.77</td>\n",
       "      <td>{'Pet Supplies': 5295}</td>\n",
       "      <td>http://ecx.images-amazon.com/images/I/41S0Ds8n...</td>\n",
       "      <td>Solid Gold</td>\n",
       "      <td>[[Pet Supplies, Dogs, Health Supplies, Supplem...</td>\n",
       "      <td>Stop Eating Poop contains Glutamic Acid to det...</td>\n",
       "      <td>2</td>\n",
       "    </tr>\n",
       "  </tbody>\n",
       "</table>\n",
       "</div>"
      ],
      "text/plain": [
       "          asin                                            related  \\\n",
       "14  1223000893  {'also_bought': ['B000G1KNPK', 'B00BYHJ6UI', '...   \n",
       "65  4847676011  {'also_bought': ['B006YFZXGG', 'B002KMDNE6', '...   \n",
       "96  9376674824  {'also_bought': ['B000JMJ4CE', 'B003FVK47A', '...   \n",
       "\n",
       "                                              title  price  \\\n",
       "14  Cat Sitter DVD Trilogy - Vol 1, Vol 2 and Vol 3  29.50   \n",
       "65           Natural Toothpaste - 2-1/2 oz.for dogs   6.83   \n",
       "96       Solid Gold S.E.P. (Stop Eating Poop) 3.5oz  10.77   \n",
       "\n",
       "                  salesRank  \\\n",
       "14  {'Pet Supplies': 39514}   \n",
       "65   {'Pet Supplies': 6424}   \n",
       "96   {'Pet Supplies': 5295}   \n",
       "\n",
       "                                                imUrl       brand  \\\n",
       "14  http://ecx.images-amazon.com/images/I/41yr4bsw...         NaN   \n",
       "65  http://ecx.images-amazon.com/images/I/41RnSg%2...     St. Jon   \n",
       "96  http://ecx.images-amazon.com/images/I/41S0Ds8n...  Solid Gold   \n",
       "\n",
       "                                           categories  \\\n",
       "14                       [[Pet Supplies, Cats, Toys]]   \n",
       "65  [[Pet Supplies, Dogs, Health Supplies, Dental ...   \n",
       "96  [[Pet Supplies, Dogs, Health Supplies, Supplem...   \n",
       "\n",
       "                                          description  itemID  \n",
       "14  This combo pack provides you with all 3 Cat Si...       0  \n",
       "65  In this day and age, we're more concerned and ...       1  \n",
       "96  Stop Eating Poop contains Glutamic Acid to det...       2  "
      ]
     },
     "execution_count": 7,
     "metadata": {},
     "output_type": "execute_result"
    }
   ],
   "source": [
    "meta_df[:3]"
   ]
  },
  {
   "cell_type": "code",
   "execution_count": 8,
   "metadata": {
    "collapsed": false,
    "pycharm": {
     "name": "#%%\n"
    }
   },
   "outputs": [
    {
     "name": "stdout",
     "output_type": "stream",
     "text": [
      "done!\n"
     ]
    }
   ],
   "source": [
    "ret_df = meta_df[ret_cols]# 选取meta_df中需要的列，创建一个新的DataFrame ret_df\n",
    "# dump\n",
    "ret_df.to_csv(os.path.join('./', 'meta-Pet_Supplies.csv'), index=False)# 将ret_df DataFrame保存为CSV文件\n",
    "print('done!')"
   ]
  },
  {
   "cell_type": "markdown",
   "metadata": {
    "collapsed": false
   },
   "source": []
  },
  {
   "cell_type": "markdown",
   "metadata": {
    "collapsed": false
   },
   "source": [
    "## Reload"
   ]
  },
  {
   "cell_type": "code",
   "execution_count": 9,
   "metadata": {
    "collapsed": false,
    "pycharm": {
     "name": "#%%\n"
    }
   },
   "outputs": [
    {
     "name": "stdout",
     "output_type": "stream",
     "text": [
      "shape: (8510, 10)\n"
     ]
    },
    {
     "data": {
      "text/html": [
       "<div>\n",
       "<style scoped>\n",
       "    .dataframe tbody tr th:only-of-type {\n",
       "        vertical-align: middle;\n",
       "    }\n",
       "\n",
       "    .dataframe tbody tr th {\n",
       "        vertical-align: top;\n",
       "    }\n",
       "\n",
       "    .dataframe thead th {\n",
       "        text-align: right;\n",
       "    }\n",
       "</style>\n",
       "<table border=\"1\" class=\"dataframe\">\n",
       "  <thead>\n",
       "    <tr style=\"text-align: right;\">\n",
       "      <th></th>\n",
       "      <th>itemID</th>\n",
       "      <th>asin</th>\n",
       "      <th>related</th>\n",
       "      <th>title</th>\n",
       "      <th>price</th>\n",
       "      <th>salesRank</th>\n",
       "      <th>imUrl</th>\n",
       "      <th>brand</th>\n",
       "      <th>categories</th>\n",
       "      <th>description</th>\n",
       "    </tr>\n",
       "  </thead>\n",
       "  <tbody>\n",
       "    <tr>\n",
       "      <th>0</th>\n",
       "      <td>0</td>\n",
       "      <td>1223000893</td>\n",
       "      <td>{'also_bought': ['B000G1KNPK', 'B00BYHJ6UI', '...</td>\n",
       "      <td>Cat Sitter DVD Trilogy - Vol 1, Vol 2 and Vol 3</td>\n",
       "      <td>29.50</td>\n",
       "      <td>{'Pet Supplies': 39514}</td>\n",
       "      <td>http://ecx.images-amazon.com/images/I/41yr4bsw...</td>\n",
       "      <td>NaN</td>\n",
       "      <td>[['Pet Supplies', 'Cats', 'Toys']]</td>\n",
       "      <td>This combo pack provides you with all 3 Cat Si...</td>\n",
       "    </tr>\n",
       "    <tr>\n",
       "      <th>1</th>\n",
       "      <td>1</td>\n",
       "      <td>4847676011</td>\n",
       "      <td>{'also_bought': ['B006YFZXGG', 'B002KMDNE6', '...</td>\n",
       "      <td>Natural Toothpaste - 2-1/2 oz.for dogs</td>\n",
       "      <td>6.83</td>\n",
       "      <td>{'Pet Supplies': 6424}</td>\n",
       "      <td>http://ecx.images-amazon.com/images/I/41RnSg%2...</td>\n",
       "      <td>St. Jon</td>\n",
       "      <td>[['Pet Supplies', 'Dogs', 'Health Supplies', '...</td>\n",
       "      <td>In this day and age, we're more concerned and ...</td>\n",
       "    </tr>\n",
       "    <tr>\n",
       "      <th>2</th>\n",
       "      <td>2</td>\n",
       "      <td>9376674824</td>\n",
       "      <td>{'also_bought': ['B000JMJ4CE', 'B003FVK47A', '...</td>\n",
       "      <td>Solid Gold S.E.P. (Stop Eating Poop) 3.5oz</td>\n",
       "      <td>10.77</td>\n",
       "      <td>{'Pet Supplies': 5295}</td>\n",
       "      <td>http://ecx.images-amazon.com/images/I/41S0Ds8n...</td>\n",
       "      <td>Solid Gold</td>\n",
       "      <td>[['Pet Supplies', 'Dogs', 'Health Supplies', '...</td>\n",
       "      <td>Stop Eating Poop contains Glutamic Acid to det...</td>\n",
       "    </tr>\n",
       "    <tr>\n",
       "      <th>3</th>\n",
       "      <td>3</td>\n",
       "      <td>B00002N8FK</td>\n",
       "      <td>{'also_bought': ['B000IGGFEQ', 'B000IGGH6W', '...</td>\n",
       "      <td>Heath Manufacturing S-1-8 Single Hanging Suet ...</td>\n",
       "      <td>1.77</td>\n",
       "      <td>{'Patio, Lawn &amp; Garden': 51680}</td>\n",
       "      <td>http://ecx.images-amazon.com/images/I/51JbAY9m...</td>\n",
       "      <td>Heath</td>\n",
       "      <td>[['Pet Supplies', 'Birds', 'Feeding &amp; Watering...</td>\n",
       "      <td>Squirrel resistant. Holds one Heath Suet Cake....</td>\n",
       "    </tr>\n",
       "  </tbody>\n",
       "</table>\n",
       "</div>"
      ],
      "text/plain": [
       "   itemID        asin                                            related  \\\n",
       "0       0  1223000893  {'also_bought': ['B000G1KNPK', 'B00BYHJ6UI', '...   \n",
       "1       1  4847676011  {'also_bought': ['B006YFZXGG', 'B002KMDNE6', '...   \n",
       "2       2  9376674824  {'also_bought': ['B000JMJ4CE', 'B003FVK47A', '...   \n",
       "3       3  B00002N8FK  {'also_bought': ['B000IGGFEQ', 'B000IGGH6W', '...   \n",
       "\n",
       "                                               title  price  \\\n",
       "0    Cat Sitter DVD Trilogy - Vol 1, Vol 2 and Vol 3  29.50   \n",
       "1             Natural Toothpaste - 2-1/2 oz.for dogs   6.83   \n",
       "2         Solid Gold S.E.P. (Stop Eating Poop) 3.5oz  10.77   \n",
       "3  Heath Manufacturing S-1-8 Single Hanging Suet ...   1.77   \n",
       "\n",
       "                         salesRank  \\\n",
       "0          {'Pet Supplies': 39514}   \n",
       "1           {'Pet Supplies': 6424}   \n",
       "2           {'Pet Supplies': 5295}   \n",
       "3  {'Patio, Lawn & Garden': 51680}   \n",
       "\n",
       "                                               imUrl       brand  \\\n",
       "0  http://ecx.images-amazon.com/images/I/41yr4bsw...         NaN   \n",
       "1  http://ecx.images-amazon.com/images/I/41RnSg%2...     St. Jon   \n",
       "2  http://ecx.images-amazon.com/images/I/41S0Ds8n...  Solid Gold   \n",
       "3  http://ecx.images-amazon.com/images/I/51JbAY9m...       Heath   \n",
       "\n",
       "                                          categories  \\\n",
       "0                 [['Pet Supplies', 'Cats', 'Toys']]   \n",
       "1  [['Pet Supplies', 'Dogs', 'Health Supplies', '...   \n",
       "2  [['Pet Supplies', 'Dogs', 'Health Supplies', '...   \n",
       "3  [['Pet Supplies', 'Birds', 'Feeding & Watering...   \n",
       "\n",
       "                                         description  \n",
       "0  This combo pack provides you with all 3 Cat Si...  \n",
       "1  In this day and age, we're more concerned and ...  \n",
       "2  Stop Eating Poop contains Glutamic Acid to det...  \n",
       "3  Squirrel resistant. Holds one Heath Suet Cake....  "
      ]
     },
     "execution_count": 9,
     "metadata": {},
     "output_type": "execute_result"
    }
   ],
   "source": [
    "indexed_df = pd.read_csv('meta-Pet_Supplies.csv')\n",
    "print(f'shape: {indexed_df.shape}')\n",
    "indexed_df[:4]"
   ]
  },
  {
   "cell_type": "code",
   "execution_count": 10,
   "metadata": {
    "collapsed": false,
    "pycharm": {
     "name": "#%%\n"
    }
   },
   "outputs": [
    {
     "name": "stdout",
     "output_type": "stream",
     "text": [
      "# of unique items: 8510\n",
      "min/max of unique learners: 0/8509\n"
     ]
    }
   ],
   "source": [
    "## Reload\n",
    "\n",
    "i_uni = indexed_df['itemID'].unique()\n",
    "\n",
    "print(f'# of unique items: {len(i_uni)}')\n",
    "\n",
    "print('min/max of unique learners: {0}/{1}'.format(min(i_uni), max(i_uni)))"
   ]
  },
  {
   "cell_type": "code",
   "execution_count": null,
   "metadata": {},
   "outputs": [],
   "source": []
  }
 ],
 "metadata": {
  "kernelspec": {
   "display_name": "MMRS",
   "language": "python",
   "name": "python3"
  },
  "language_info": {
   "codemirror_mode": {
    "name": "ipython",
    "version": 3
   },
   "file_extension": ".py",
   "mimetype": "text/x-python",
   "name": "python",
   "nbconvert_exporter": "python",
   "pygments_lexer": "ipython3",
   "version": "3.9.19"
  }
 },
 "nbformat": 4,
 "nbformat_minor": 0
}
