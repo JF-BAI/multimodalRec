{
 "cells": [
  {
   "cell_type": "markdown",
   "metadata": {
    "collapsed": false
   },
   "source": [
    "# 从ratings_Musical_Instruments.csv文件中提取U-I交互图, 5-core后重新编号\n",
    "- Extracting U-I interactions and performing 5-core, re-indexing\n",
    "- dataset located at: http://jmcauley.ucsd.edu/data/amazon/links.html, rating only file in \"Small\" subsets for experimentation"
   ]
  },
  {
   "cell_type": "code",
   "execution_count": 1,
   "metadata": {
    "collapsed": true
   },
   "outputs": [],
   "source": [
    "import os, csv\n",
    "import pandas as pd"
   ]
  },
  {
   "cell_type": "code",
   "execution_count": 2,
   "metadata": {
    "collapsed": false,
    "pycharm": {
     "is_executing": true,
     "name": "#%%\n"
    }
   },
   "outputs": [
    {
     "data": {
      "text/plain": [
       "'/home/bjf/bjf_projects/MMRec/data/pet'"
      ]
     },
     "execution_count": 2,
     "metadata": {},
     "output_type": "execute_result"
    }
   ],
   "source": [
    "os.chdir('/home/bjf/bjf_projects/MMRec/data/pet')# 切换到音乐数据目录\n",
    "os.getcwd()# 获取当前工作目录，这里可以用来验证是否成功切换目录"
   ]
  },
  {
   "cell_type": "markdown",
   "metadata": {
    "collapsed": false
   },
   "source": [
    "## 先5-core过滤\n",
    "## 5-core filtering"
   ]
  },
  {
   "cell_type": "code",
   "execution_count": 3,
   "metadata": {
    "collapsed": false,
    "pycharm": {
     "name": "#%%\n"
    }
   },
   "outputs": [
    {
     "name": "stdout",
     "output_type": "stream",
     "text": [
      "shape: (1235316, 4)\n"
     ]
    },
    {
     "data": {
      "text/html": [
       "<div>\n",
       "<style scoped>\n",
       "    .dataframe tbody tr th:only-of-type {\n",
       "        vertical-align: middle;\n",
       "    }\n",
       "\n",
       "    .dataframe tbody tr th {\n",
       "        vertical-align: top;\n",
       "    }\n",
       "\n",
       "    .dataframe thead th {\n",
       "        text-align: right;\n",
       "    }\n",
       "</style>\n",
       "<table border=\"1\" class=\"dataframe\">\n",
       "  <thead>\n",
       "    <tr style=\"text-align: right;\">\n",
       "      <th></th>\n",
       "      <th>userID</th>\n",
       "      <th>itemID</th>\n",
       "      <th>rating</th>\n",
       "      <th>timestamp</th>\n",
       "    </tr>\n",
       "  </thead>\n",
       "  <tbody>\n",
       "    <tr>\n",
       "      <th>0</th>\n",
       "      <td>A3PG0KS1YE8MR4</td>\n",
       "      <td>0615553605</td>\n",
       "      <td>5.0</td>\n",
       "      <td>1354838400</td>\n",
       "    </tr>\n",
       "    <tr>\n",
       "      <th>1</th>\n",
       "      <td>A363P047LR5XI6</td>\n",
       "      <td>0615553605</td>\n",
       "      <td>4.0</td>\n",
       "      <td>1373932800</td>\n",
       "    </tr>\n",
       "    <tr>\n",
       "      <th>2</th>\n",
       "      <td>ABZ8CQXD42H4</td>\n",
       "      <td>0615553605</td>\n",
       "      <td>1.0</td>\n",
       "      <td>1386028800</td>\n",
       "    </tr>\n",
       "    <tr>\n",
       "      <th>3</th>\n",
       "      <td>A3J8QW1MV1OP01</td>\n",
       "      <td>0615583474</td>\n",
       "      <td>5.0</td>\n",
       "      <td>1347321600</td>\n",
       "    </tr>\n",
       "    <tr>\n",
       "      <th>4</th>\n",
       "      <td>A3ISA8Z0NB0ILH</td>\n",
       "      <td>0615583474</td>\n",
       "      <td>5.0</td>\n",
       "      <td>1358899200</td>\n",
       "    </tr>\n",
       "  </tbody>\n",
       "</table>\n",
       "</div>"
      ],
      "text/plain": [
       "           userID      itemID  rating   timestamp\n",
       "0  A3PG0KS1YE8MR4  0615553605     5.0  1354838400\n",
       "1  A363P047LR5XI6  0615553605     4.0  1373932800\n",
       "2    ABZ8CQXD42H4  0615553605     1.0  1386028800\n",
       "3  A3J8QW1MV1OP01  0615583474     5.0  1347321600\n",
       "4  A3ISA8Z0NB0ILH  0615583474     5.0  1358899200"
      ]
     },
     "execution_count": 3,
     "metadata": {},
     "output_type": "execute_result"
    }
   ],
   "source": [
    "df = pd.read_csv('ratings_Pet_Supplies.csv', names=['userID', 'itemID', 'rating', 'timestamp'], header=None)# 读取CSV文件，包含用户ID、项目ID、评分和时间戳四列数据\n",
    "print(f'shape: {df.shape}')# 打印数据框的形状，以了解数据的行数和列数\n",
    "df[:5]"
   ]
  },
  {
   "cell_type": "code",
   "execution_count": 4,
   "metadata": {
    "collapsed": false,
    "pycharm": {
     "name": "#%%\n"
    }
   },
   "outputs": [
    {
     "name": "stdout",
     "output_type": "stream",
     "text": [
      "After dropped: (1235316, 4)\n"
     ]
    },
    {
     "data": {
      "text/html": [
       "<div>\n",
       "<style scoped>\n",
       "    .dataframe tbody tr th:only-of-type {\n",
       "        vertical-align: middle;\n",
       "    }\n",
       "\n",
       "    .dataframe tbody tr th {\n",
       "        vertical-align: top;\n",
       "    }\n",
       "\n",
       "    .dataframe thead th {\n",
       "        text-align: right;\n",
       "    }\n",
       "</style>\n",
       "<table border=\"1\" class=\"dataframe\">\n",
       "  <thead>\n",
       "    <tr style=\"text-align: right;\">\n",
       "      <th></th>\n",
       "      <th>userID</th>\n",
       "      <th>itemID</th>\n",
       "      <th>rating</th>\n",
       "      <th>timestamp</th>\n",
       "    </tr>\n",
       "  </thead>\n",
       "  <tbody>\n",
       "    <tr>\n",
       "      <th>0</th>\n",
       "      <td>A3PG0KS1YE8MR4</td>\n",
       "      <td>0615553605</td>\n",
       "      <td>5.0</td>\n",
       "      <td>1354838400</td>\n",
       "    </tr>\n",
       "    <tr>\n",
       "      <th>1</th>\n",
       "      <td>A363P047LR5XI6</td>\n",
       "      <td>0615553605</td>\n",
       "      <td>4.0</td>\n",
       "      <td>1373932800</td>\n",
       "    </tr>\n",
       "    <tr>\n",
       "      <th>2</th>\n",
       "      <td>ABZ8CQXD42H4</td>\n",
       "      <td>0615553605</td>\n",
       "      <td>1.0</td>\n",
       "      <td>1386028800</td>\n",
       "    </tr>\n",
       "  </tbody>\n",
       "</table>\n",
       "</div>"
      ],
      "text/plain": [
       "           userID      itemID  rating   timestamp\n",
       "0  A3PG0KS1YE8MR4  0615553605     5.0  1354838400\n",
       "1  A363P047LR5XI6  0615553605     4.0  1373932800\n",
       "2    ABZ8CQXD42H4  0615553605     1.0  1386028800"
      ]
     },
     "execution_count": 4,
     "metadata": {},
     "output_type": "execute_result"
    }
   ],
   "source": [
    "k_core = 5\n",
    "learner_id, course_id, tmstmp_str = 'userID', 'itemID', 'timestamp'# 定义变量learner_id, course_id, tmstmp_str分别代表用户ID，课程ID和时间戳字符串\n",
    "\n",
    "df.dropna(subset=[learner_id, course_id, tmstmp_str], inplace=True)# 移除数据框df中learner_id, course_id, tmstmp_str任一为空的行\n",
    "df.drop_duplicates(subset=[learner_id, course_id, tmstmp_str], inplace=True)# 移除数据框df中的重复行，基于learner_id, course_id, tmstmp_str这三个字段进行判断\n",
    "print(f'After dropped: {df.shape}')# 打印处理后的数据框df的形状，以查看数据清理后的效果\n",
    "df[:3]"
   ]
  },
  {
   "cell_type": "code",
   "execution_count": 5,
   "metadata": {
    "collapsed": false,
    "pycharm": {
     "name": "#%%\n"
    }
   },
   "outputs": [],
   "source": [
    "from collections import Counter\n",
    "import numpy as np\n",
    "\n",
    "min_u_num, min_i_num = 5, 5\n",
    "\n",
    "def get_illegal_ids_by_inter_num(df, field, max_num=None, min_num=None):#根据交互次数获取非法ID集合。\n",
    "    if field is None:# 如果指定字段为空，则直接返回空集合\n",
    "        return set()\n",
    "    if max_num is None and min_num is None:# 如果min_num和max_num都未指定，则返回空集合\n",
    "        return set()\n",
    "\n",
    "    max_num = max_num or np.inf# 未指定max_num时，默认设置为正无穷\n",
    "    min_num = min_num or -1# 未指定min_num时，默认设置为-1\n",
    "\n",
    "    ids = df[field].values# 提取指定字段的值\n",
    "    inter_num = Counter(ids)# 统计每个ID的出现次数\n",
    "    ids = {id_ for id_ in inter_num if inter_num[id_] < min_num or inter_num[id_] > max_num}# 根据交互次数筛选出非法ID集合\n",
    "    print(f'{len(ids)} illegal_ids_by_inter_num, field={field}')\n",
    "\n",
    "    return ids\n",
    "\n",
    "\n",
    "def filter_by_k_core(df):#过滤数据框(df)中的交互记录，确保每个用户和项目都至少有指定的最小交互次数(min_u_num和min_i_num)\n",
    "    while True:\n",
    "        ban_users = get_illegal_ids_by_inter_num(df, field=learner_id, max_num=None, min_num=min_u_num)\n",
    "        ban_items = get_illegal_ids_by_inter_num(df, field=course_id, max_num=None, min_num=min_i_num)\n",
    "        if len(ban_users) == 0 and len(ban_items) == 0:\n",
    "            return\n",
    "\n",
    "        dropped_inter = pd.Series(False, index=df.index)\n",
    "        if learner_id:\n",
    "            dropped_inter |= df[learner_id].isin(ban_users)\n",
    "        if course_id:\n",
    "            dropped_inter |= df[course_id].isin(ban_items)\n",
    "        print(f'{len(dropped_inter)} dropped interactions')\n",
    "        df.drop(df.index[dropped_inter], inplace=True)\n",
    "\n"
   ]
  },
  {
   "cell_type": "markdown",
   "metadata": {
    "collapsed": false
   },
   "source": [
    "## k-core"
   ]
  },
  {
   "cell_type": "code",
   "execution_count": 6,
   "metadata": {
    "collapsed": false,
    "pycharm": {
     "name": "#%%\n"
    }
   },
   "outputs": [
    {
     "name": "stdout",
     "output_type": "stream",
     "text": [
      "707298 illegal_ids_by_inter_num, field=userID\n",
      "72026 illegal_ids_by_inter_num, field=itemID\n",
      "1235316 dropped interactions\n",
      "5413 illegal_ids_by_inter_num, field=userID\n",
      "16382 illegal_ids_by_inter_num, field=itemID\n",
      "249174 dropped interactions\n",
      "6309 illegal_ids_by_inter_num, field=userID\n",
      "835 illegal_ids_by_inter_num, field=itemID\n",
      "197718 dropped interactions\n",
      "581 illegal_ids_by_inter_num, field=userID\n",
      "1274 illegal_ids_by_inter_num, field=itemID\n",
      "172485 dropped interactions\n",
      "1030 illegal_ids_by_inter_num, field=userID\n",
      "147 illegal_ids_by_inter_num, field=itemID\n",
      "165612 dropped interactions\n",
      "120 illegal_ids_by_inter_num, field=userID\n",
      "240 illegal_ids_by_inter_num, field=itemID\n",
      "161017 dropped interactions\n",
      "227 illegal_ids_by_inter_num, field=userID\n",
      "31 illegal_ids_by_inter_num, field=itemID\n",
      "159605 dropped interactions\n",
      "33 illegal_ids_by_inter_num, field=userID\n",
      "48 illegal_ids_by_inter_num, field=itemID\n",
      "158579 dropped interactions\n",
      "45 illegal_ids_by_inter_num, field=userID\n",
      "8 illegal_ids_by_inter_num, field=itemID\n",
      "158259 dropped interactions\n",
      "12 illegal_ids_by_inter_num, field=userID\n",
      "13 illegal_ids_by_inter_num, field=itemID\n",
      "158048 dropped interactions\n",
      "12 illegal_ids_by_inter_num, field=userID\n",
      "3 illegal_ids_by_inter_num, field=itemID\n",
      "157948 dropped interactions\n",
      "3 illegal_ids_by_inter_num, field=userID\n",
      "4 illegal_ids_by_inter_num, field=itemID\n",
      "157888 dropped interactions\n",
      "3 illegal_ids_by_inter_num, field=userID\n",
      "0 illegal_ids_by_inter_num, field=itemID\n",
      "157860 dropped interactions\n",
      "0 illegal_ids_by_inter_num, field=userID\n",
      "2 illegal_ids_by_inter_num, field=itemID\n",
      "157848 dropped interactions\n",
      "1 illegal_ids_by_inter_num, field=userID\n",
      "0 illegal_ids_by_inter_num, field=itemID\n",
      "157840 dropped interactions\n",
      "0 illegal_ids_by_inter_num, field=userID\n",
      "0 illegal_ids_by_inter_num, field=itemID\n",
      "k-core shape: (157836, 4)\n",
      "shape after k-core: (157836, 4)\n"
     ]
    },
    {
     "data": {
      "text/html": [
       "<div>\n",
       "<style scoped>\n",
       "    .dataframe tbody tr th:only-of-type {\n",
       "        vertical-align: middle;\n",
       "    }\n",
       "\n",
       "    .dataframe tbody tr th {\n",
       "        vertical-align: top;\n",
       "    }\n",
       "\n",
       "    .dataframe thead th {\n",
       "        text-align: right;\n",
       "    }\n",
       "</style>\n",
       "<table border=\"1\" class=\"dataframe\">\n",
       "  <thead>\n",
       "    <tr style=\"text-align: right;\">\n",
       "      <th></th>\n",
       "      <th>userID</th>\n",
       "      <th>itemID</th>\n",
       "      <th>rating</th>\n",
       "      <th>timestamp</th>\n",
       "    </tr>\n",
       "  </thead>\n",
       "  <tbody>\n",
       "    <tr>\n",
       "      <th>121</th>\n",
       "      <td>A14CK12J7C7JRK</td>\n",
       "      <td>1223000893</td>\n",
       "      <td>3.0</td>\n",
       "      <td>1294790400</td>\n",
       "    </tr>\n",
       "    <tr>\n",
       "      <th>134</th>\n",
       "      <td>A39QHP5WLON5HV</td>\n",
       "      <td>1223000893</td>\n",
       "      <td>5.0</td>\n",
       "      <td>1379116800</td>\n",
       "    </tr>\n",
       "  </tbody>\n",
       "</table>\n",
       "</div>"
      ],
      "text/plain": [
       "             userID      itemID  rating   timestamp\n",
       "121  A14CK12J7C7JRK  1223000893     3.0  1294790400\n",
       "134  A39QHP5WLON5HV  1223000893     5.0  1379116800"
      ]
     },
     "execution_count": 6,
     "metadata": {},
     "output_type": "execute_result"
    }
   ],
   "source": [
    "filter_by_k_core(df)\n",
    "print(f'k-core shape: {df.shape}')\n",
    "print(f'shape after k-core: {df.shape}')\n",
    "df[:2]"
   ]
  },
  {
   "cell_type": "markdown",
   "metadata": {
    "collapsed": false
   },
   "source": [
    "## Re-index"
   ]
  },
  {
   "cell_type": "code",
   "execution_count": 7,
   "metadata": {
    "collapsed": false,
    "pycharm": {
     "name": "#%%\n"
    }
   },
   "outputs": [],
   "source": [
    "df.reset_index(drop=True, inplace=True)# 重置DataFrame的索引，将原有索引丢弃，新索引从0开始计数"
   ]
  },
  {
   "cell_type": "code",
   "execution_count": 8,
   "metadata": {
    "collapsed": false,
    "pycharm": {
     "name": "#%%\n"
    }
   },
   "outputs": [
    {
     "name": "stdout",
     "output_type": "stream",
     "text": [
      "mapping dumped...\n"
     ]
    }
   ],
   "source": [
    "'生成i_id_mapping.csv以及u_id_mapping.csv'\n",
    "# 定义用户和项目ID映射文件路径\n",
    "i_mapping_file = 'i_id_mapping.csv'\n",
    "u_mapping_file = 'u_id_mapping.csv'\n",
    "# 数据集划分比例，分别为训练集、验证集和测试集的比例\n",
    "splitting = [0.8, 0.1, 0.1]\n",
    "uid_field, iid_field = learner_id, course_id# 定义用户ID和项目ID的字段名称\n",
    "# 获取数据集中唯一用户ID和项目ID\n",
    "uni_users = pd.unique(df[uid_field])\n",
    "uni_items = pd.unique(df[iid_field])\n",
    "\n",
    "# start from 0# 为用户ID和项目ID创建从0开始的整数映射\n",
    "u_id_map = {k: i for i, k in enumerate(uni_users)}\n",
    "i_id_map = {k: i for i, k in enumerate(uni_items)}\n",
    "# 使用映射将原始ID转换为从0开始的整数\n",
    "df[uid_field] = df[uid_field].map(u_id_map)\n",
    "df[iid_field] = df[iid_field].map(i_id_map)\n",
    "# 将ID字段的类型转换为整数\n",
    "df[uid_field] = df[uid_field].astype(int)\n",
    "df[iid_field] = df[iid_field].astype(int)\n",
    "\n",
    "# dump# 将ID映射保存到CSV文件\n",
    "rslt_dir = './'\n",
    "# 将映射表转换为DataFrame并保存\n",
    "u_df = pd.DataFrame(list(u_id_map.items()), columns=['user_id', 'userID'])\n",
    "i_df = pd.DataFrame(list(i_id_map.items()), columns=['asin', 'itemID'])\n",
    "# 使用os.path.join确保文件路径格式兼容不同操作系统\n",
    "u_df.to_csv(os.path.join(rslt_dir, u_mapping_file), sep='\\t', index=False)\n",
    "i_df.to_csv(os.path.join(rslt_dir, i_mapping_file), sep='\\t', index=False)\n",
    "print(f'mapping dumped...')# 打印映射保存完成的消息"
   ]
  },
  {
   "cell_type": "code",
   "execution_count": 9,
   "metadata": {
    "collapsed": false,
    "pycharm": {
     "is_executing": true,
     "name": "#%%\n"
    }
   },
   "outputs": [
    {
     "name": "stdout",
     "output_type": "stream",
     "text": [
      "splitting ...\n"
     ]
    },
    {
     "data": {
      "text/plain": [
       "array([0.8, 0.9])"
      ]
     },
     "execution_count": 9,
     "metadata": {},
     "output_type": "execute_result"
    }
   ],
   "source": [
    "\n",
    "# =========2. splitting\n",
    "print(f'splitting ...')\n",
    "tot_ratio = sum(splitting)# 计算比例总和\n",
    "# remove 0.0 in ratios\n",
    "ratios = [i for i in splitting if i > .0]# 去除比例列表中的0.0值\n",
    "ratios = [_ / tot_ratio for _ in ratios]# 计算累积比例，除去最后一个值\n",
    "split_ratios = np.cumsum(ratios)[:-1]\n",
    "\n",
    "#df[tmstmp_str] = df[tmstmp_str].map(lambda x: datetime.strptime(x, \"%Y-%m-%dT%H:%M:%SZ\"))\n",
    "split_ratios# 输出分割比例"
   ]
  },
  {
   "cell_type": "code",
   "execution_count": 10,
   "metadata": {
    "collapsed": false,
    "pycharm": {
     "name": "#%%\n"
    }
   },
   "outputs": [
    {
     "name": "stdout",
     "output_type": "stream",
     "text": [
      "columns: Index(['userID', 'itemID', 'rating', 'timestamp', 'x_label'], dtype='object')\n"
     ]
    },
    {
     "data": {
      "text/html": [
       "<div>\n",
       "<style scoped>\n",
       "    .dataframe tbody tr th:only-of-type {\n",
       "        vertical-align: middle;\n",
       "    }\n",
       "\n",
       "    .dataframe tbody tr th {\n",
       "        vertical-align: top;\n",
       "    }\n",
       "\n",
       "    .dataframe thead th {\n",
       "        text-align: right;\n",
       "    }\n",
       "</style>\n",
       "<table border=\"1\" class=\"dataframe\">\n",
       "  <thead>\n",
       "    <tr style=\"text-align: right;\">\n",
       "      <th></th>\n",
       "      <th>userID</th>\n",
       "      <th>itemID</th>\n",
       "      <th>rating</th>\n",
       "      <th>timestamp</th>\n",
       "      <th>x_label</th>\n",
       "    </tr>\n",
       "  </thead>\n",
       "  <tbody>\n",
       "    <tr>\n",
       "      <th>0</th>\n",
       "      <td>0</td>\n",
       "      <td>0</td>\n",
       "      <td>3.0</td>\n",
       "      <td>1294790400</td>\n",
       "      <td>0</td>\n",
       "    </tr>\n",
       "    <tr>\n",
       "      <th>1</th>\n",
       "      <td>1</td>\n",
       "      <td>0</td>\n",
       "      <td>5.0</td>\n",
       "      <td>1379116800</td>\n",
       "      <td>0</td>\n",
       "    </tr>\n",
       "    <tr>\n",
       "      <th>2</th>\n",
       "      <td>2</td>\n",
       "      <td>0</td>\n",
       "      <td>4.0</td>\n",
       "      <td>1355875200</td>\n",
       "      <td>0</td>\n",
       "    </tr>\n",
       "    <tr>\n",
       "      <th>3</th>\n",
       "      <td>3</td>\n",
       "      <td>0</td>\n",
       "      <td>4.0</td>\n",
       "      <td>1305158400</td>\n",
       "      <td>0</td>\n",
       "    </tr>\n",
       "    <tr>\n",
       "      <th>4</th>\n",
       "      <td>4</td>\n",
       "      <td>0</td>\n",
       "      <td>3.0</td>\n",
       "      <td>1330905600</td>\n",
       "      <td>0</td>\n",
       "    </tr>\n",
       "  </tbody>\n",
       "</table>\n",
       "</div>"
      ],
      "text/plain": [
       "   userID  itemID  rating   timestamp  x_label\n",
       "0       0       0     3.0  1294790400        0\n",
       "1       1       0     5.0  1379116800        0\n",
       "2       2       0     4.0  1355875200        0\n",
       "3       3       0     4.0  1305158400        0\n",
       "4       4       0     3.0  1330905600        0"
      ]
     },
     "execution_count": 10,
     "metadata": {},
     "output_type": "execute_result"
    }
   ],
   "source": [
    "'生成music.inter文件'\n",
    "ts_id = 'timestamp'# 定义时间戳字段\n",
    "# 计算分割时间戳\n",
    "split_timestamps = list(np.quantile(df[ts_id], split_ratios))\n",
    "# get df training dataset unique users/items\n",
    "df_train = df.loc[df[ts_id] < split_timestamps[0]].copy()# 根据时间戳筛选训练数据集\n",
    "df_val = df.loc[(split_timestamps[0] <= df[ts_id]) & (df[ts_id] < split_timestamps[1])].copy()# 根据时间戳筛选验证数据集\n",
    "df_test = df.loc[(split_timestamps[1] <= df[ts_id])].copy()# 根据时间戳筛选测试数据集\n",
    "\n",
    "x_label, rslt_file = 'x_label', 'pet.inter'# 定义x轴标签和结果文件名\n",
    "# 为训练、验证和测试数据集设置x轴标签\n",
    "df_train[x_label] = 0\n",
    "df_val[x_label] = 1\n",
    "df_test[x_label] = 2\n",
    "temp_df = pd.concat([df_train, df_val, df_test])# 合并三个数据集\n",
    "temp_df = temp_df[[learner_id, course_id, 'rating', ts_id, x_label]]# 选择所需的列\n",
    "print(f'columns: {temp_df.columns}')# 打印列信息\n",
    "\n",
    "temp_df.columns = [learner_id, course_id, 'rating', ts_id, x_label]# 重命名列\n",
    "\n",
    "temp_df.to_csv(os.path.join(rslt_dir, rslt_file), sep='\\t', index=False)# 保存到CSV文件\n",
    "temp_df[:5]\n",
    "#print('done!')"
   ]
  },
  {
   "cell_type": "markdown",
   "metadata": {
    "collapsed": false
   },
   "source": []
  },
  {
   "cell_type": "markdown",
   "metadata": {
    "collapsed": false
   },
   "source": []
  },
  {
   "cell_type": "markdown",
   "metadata": {
    "collapsed": false,
    "pycharm": {
     "name": "#%% md\n"
    }
   },
   "source": [
    "## Reload"
   ]
  },
  {
   "cell_type": "code",
   "execution_count": 11,
   "metadata": {
    "collapsed": false,
    "pycharm": {
     "name": "#%%\n"
    }
   },
   "outputs": [
    {
     "name": "stdout",
     "output_type": "stream",
     "text": [
      "shape: (157836, 5)\n"
     ]
    },
    {
     "data": {
      "text/html": [
       "<div>\n",
       "<style scoped>\n",
       "    .dataframe tbody tr th:only-of-type {\n",
       "        vertical-align: middle;\n",
       "    }\n",
       "\n",
       "    .dataframe tbody tr th {\n",
       "        vertical-align: top;\n",
       "    }\n",
       "\n",
       "    .dataframe thead th {\n",
       "        text-align: right;\n",
       "    }\n",
       "</style>\n",
       "<table border=\"1\" class=\"dataframe\">\n",
       "  <thead>\n",
       "    <tr style=\"text-align: right;\">\n",
       "      <th></th>\n",
       "      <th>userID</th>\n",
       "      <th>itemID</th>\n",
       "      <th>rating</th>\n",
       "      <th>timestamp</th>\n",
       "      <th>x_label</th>\n",
       "    </tr>\n",
       "  </thead>\n",
       "  <tbody>\n",
       "    <tr>\n",
       "      <th>0</th>\n",
       "      <td>0</td>\n",
       "      <td>0</td>\n",
       "      <td>3.0</td>\n",
       "      <td>1294790400</td>\n",
       "      <td>0</td>\n",
       "    </tr>\n",
       "    <tr>\n",
       "      <th>1</th>\n",
       "      <td>1</td>\n",
       "      <td>0</td>\n",
       "      <td>5.0</td>\n",
       "      <td>1379116800</td>\n",
       "      <td>0</td>\n",
       "    </tr>\n",
       "    <tr>\n",
       "      <th>2</th>\n",
       "      <td>2</td>\n",
       "      <td>0</td>\n",
       "      <td>4.0</td>\n",
       "      <td>1355875200</td>\n",
       "      <td>0</td>\n",
       "    </tr>\n",
       "    <tr>\n",
       "      <th>3</th>\n",
       "      <td>3</td>\n",
       "      <td>0</td>\n",
       "      <td>4.0</td>\n",
       "      <td>1305158400</td>\n",
       "      <td>0</td>\n",
       "    </tr>\n",
       "  </tbody>\n",
       "</table>\n",
       "</div>"
      ],
      "text/plain": [
       "   userID  itemID  rating   timestamp  x_label\n",
       "0       0       0     3.0  1294790400        0\n",
       "1       1       0     5.0  1379116800        0\n",
       "2       2       0     4.0  1355875200        0\n",
       "3       3       0     4.0  1305158400        0"
      ]
     },
     "execution_count": 11,
     "metadata": {},
     "output_type": "execute_result"
    }
   ],
   "source": [
    "indexed_df = pd.read_csv(rslt_file, sep='\\t')# 从CSV文件中读取数据，使用制表符作为分隔符\n",
    "print(f'shape: {indexed_df.shape}')# 打印数据框的形状，即行数和列数\n",
    "indexed_df[:4]"
   ]
  },
  {
   "cell_type": "code",
   "execution_count": 12,
   "metadata": {
    "collapsed": false,
    "pycharm": {
     "name": "#%%\n"
    }
   },
   "outputs": [
    {
     "name": "stdout",
     "output_type": "stream",
     "text": [
      "# of unique learners: 19856\n",
      "# of unique courses: 8510\n",
      "min/max of unique learners: 0/19855\n",
      "min/max of unique courses: 0/8509\n"
     ]
    }
   ],
   "source": [
    "u_uni = indexed_df[learner_id].unique()\n",
    "c_uni = indexed_df[course_id].unique()\n",
    "\n",
    "print(f'# of unique learners: {len(u_uni)}')\n",
    "print(f'# of unique courses: {len(c_uni)}')\n",
    "\n",
    "print('min/max of unique learners: {0}/{1}'.format(min(u_uni), max(u_uni)))\n",
    "print('min/max of unique courses: {0}/{1}'.format(min(c_uni), max(c_uni)))\n"
   ]
  }
 ],
 "metadata": {
  "kernelspec": {
   "display_name": "MMRS",
   "language": "python",
   "name": "python3"
  },
  "language_info": {
   "codemirror_mode": {
    "name": "ipython",
    "version": 3
   },
   "file_extension": ".py",
   "mimetype": "text/x-python",
   "name": "python",
   "nbconvert_exporter": "python",
   "pygments_lexer": "ipython3",
   "version": "3.9.19"
  }
 },
 "nbformat": 4,
 "nbformat_minor": 0
}
