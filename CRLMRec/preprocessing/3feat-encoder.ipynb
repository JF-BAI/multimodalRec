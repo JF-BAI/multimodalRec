{
 "cells": [
  {
   "cell_type": "markdown",
   "metadata": {
    "collapsed": false
   },
   "source": [
    "# Sports14 Text/Image Feature Extraction"
   ]
  },
  {
   "cell_type": "markdown",
   "metadata": {
    "collapsed": false
   },
   "source": []
  },
  {
   "cell_type": "code",
   "execution_count": 1,
   "metadata": {
    "collapsed": false,
    "pycharm": {
     "name": "#%%\n"
    }
   },
   "outputs": [],
   "source": [
    "\n",
    "import os\n",
    "import numpy as np\n",
    "import pandas as pd"
   ]
  },
  {
   "cell_type": "code",
   "execution_count": 2,
   "metadata": {
    "collapsed": false,
    "pycharm": {
     "is_executing": true,
     "name": "#%%\n"
    }
   },
   "outputs": [
    {
     "data": {
      "text/plain": [
       "'/home/bjf/bjf_projects/MMRec/data/pet'"
      ]
     },
     "execution_count": 2,
     "metadata": {},
     "output_type": "execute_result"
    }
   ],
   "source": [
    "os.chdir('/home/bjf/bjf_projects/MMRec/data/pet')\n",
    "os.getcwd()"
   ]
  },
  {
   "cell_type": "markdown",
   "metadata": {
    "collapsed": false
   },
   "source": [
    "## Load text data"
   ]
  },
  {
   "cell_type": "code",
   "execution_count": 3,
   "metadata": {
    "collapsed": false,
    "pycharm": {
     "name": "#%%\n"
    }
   },
   "outputs": [
    {
     "name": "stdout",
     "output_type": "stream",
     "text": [
      "data loaded!\n",
      "shape: (8510, 10)\n"
     ]
    },
    {
     "data": {
      "text/html": [
       "<div>\n",
       "<style scoped>\n",
       "    .dataframe tbody tr th:only-of-type {\n",
       "        vertical-align: middle;\n",
       "    }\n",
       "\n",
       "    .dataframe tbody tr th {\n",
       "        vertical-align: top;\n",
       "    }\n",
       "\n",
       "    .dataframe thead th {\n",
       "        text-align: right;\n",
       "    }\n",
       "</style>\n",
       "<table border=\"1\" class=\"dataframe\">\n",
       "  <thead>\n",
       "    <tr style=\"text-align: right;\">\n",
       "      <th></th>\n",
       "      <th>itemID</th>\n",
       "      <th>asin</th>\n",
       "      <th>related</th>\n",
       "      <th>title</th>\n",
       "      <th>price</th>\n",
       "      <th>salesRank</th>\n",
       "      <th>imUrl</th>\n",
       "      <th>brand</th>\n",
       "      <th>categories</th>\n",
       "      <th>description</th>\n",
       "    </tr>\n",
       "  </thead>\n",
       "  <tbody>\n",
       "    <tr>\n",
       "      <th>0</th>\n",
       "      <td>0</td>\n",
       "      <td>1223000893</td>\n",
       "      <td>{'also_bought': ['B000G1KNPK', 'B00BYHJ6UI', '...</td>\n",
       "      <td>Cat Sitter DVD Trilogy - Vol 1, Vol 2 and Vol 3</td>\n",
       "      <td>29.50</td>\n",
       "      <td>{'Pet Supplies': 39514}</td>\n",
       "      <td>http://ecx.images-amazon.com/images/I/41yr4bsw...</td>\n",
       "      <td>NaN</td>\n",
       "      <td>[['Pet Supplies', 'Cats', 'Toys']]</td>\n",
       "      <td>This combo pack provides you with all 3 Cat Si...</td>\n",
       "    </tr>\n",
       "    <tr>\n",
       "      <th>1</th>\n",
       "      <td>1</td>\n",
       "      <td>4847676011</td>\n",
       "      <td>{'also_bought': ['B006YFZXGG', 'B002KMDNE6', '...</td>\n",
       "      <td>Natural Toothpaste - 2-1/2 oz.for dogs</td>\n",
       "      <td>6.83</td>\n",
       "      <td>{'Pet Supplies': 6424}</td>\n",
       "      <td>http://ecx.images-amazon.com/images/I/41RnSg%2...</td>\n",
       "      <td>St. Jon</td>\n",
       "      <td>[['Pet Supplies', 'Dogs', 'Health Supplies', '...</td>\n",
       "      <td>In this day and age, we're more concerned and ...</td>\n",
       "    </tr>\n",
       "    <tr>\n",
       "      <th>2</th>\n",
       "      <td>2</td>\n",
       "      <td>9376674824</td>\n",
       "      <td>{'also_bought': ['B000JMJ4CE', 'B003FVK47A', '...</td>\n",
       "      <td>Solid Gold S.E.P. (Stop Eating Poop) 3.5oz</td>\n",
       "      <td>10.77</td>\n",
       "      <td>{'Pet Supplies': 5295}</td>\n",
       "      <td>http://ecx.images-amazon.com/images/I/41S0Ds8n...</td>\n",
       "      <td>Solid Gold</td>\n",
       "      <td>[['Pet Supplies', 'Dogs', 'Health Supplies', '...</td>\n",
       "      <td>Stop Eating Poop contains Glutamic Acid to det...</td>\n",
       "    </tr>\n",
       "  </tbody>\n",
       "</table>\n",
       "</div>"
      ],
      "text/plain": [
       "   itemID        asin                                            related  \\\n",
       "0       0  1223000893  {'also_bought': ['B000G1KNPK', 'B00BYHJ6UI', '...   \n",
       "1       1  4847676011  {'also_bought': ['B006YFZXGG', 'B002KMDNE6', '...   \n",
       "2       2  9376674824  {'also_bought': ['B000JMJ4CE', 'B003FVK47A', '...   \n",
       "\n",
       "                                             title  price  \\\n",
       "0  Cat Sitter DVD Trilogy - Vol 1, Vol 2 and Vol 3  29.50   \n",
       "1           Natural Toothpaste - 2-1/2 oz.for dogs   6.83   \n",
       "2       Solid Gold S.E.P. (Stop Eating Poop) 3.5oz  10.77   \n",
       "\n",
       "                 salesRank                                              imUrl  \\\n",
       "0  {'Pet Supplies': 39514}  http://ecx.images-amazon.com/images/I/41yr4bsw...   \n",
       "1   {'Pet Supplies': 6424}  http://ecx.images-amazon.com/images/I/41RnSg%2...   \n",
       "2   {'Pet Supplies': 5295}  http://ecx.images-amazon.com/images/I/41S0Ds8n...   \n",
       "\n",
       "        brand                                         categories  \\\n",
       "0         NaN                 [['Pet Supplies', 'Cats', 'Toys']]   \n",
       "1     St. Jon  [['Pet Supplies', 'Dogs', 'Health Supplies', '...   \n",
       "2  Solid Gold  [['Pet Supplies', 'Dogs', 'Health Supplies', '...   \n",
       "\n",
       "                                         description  \n",
       "0  This combo pack provides you with all 3 Cat Si...  \n",
       "1  In this day and age, we're more concerned and ...  \n",
       "2  Stop Eating Poop contains Glutamic Acid to det...  "
      ]
     },
     "execution_count": 3,
     "metadata": {},
     "output_type": "execute_result"
    }
   ],
   "source": [
    "i_id, desc_str = 'itemID', 'description'\n",
    "\n",
    "file_path = './'\n",
    "file_name = 'meta-Pet_Supplies.csv'\n",
    "\n",
    "meta_file = os.path.join(file_path, file_name)\n",
    "\n",
    "df = pd.read_csv(meta_file)# 读取CSV文件到DataFrame，并按项目ID排序\n",
    "df.sort_values(by=[i_id], inplace=True)\n",
    "\n",
    "print('data loaded!')\n",
    "print(f'shape: {df.shape}')\n",
    "\n",
    "df[:3]"
   ]
  },
  {
   "cell_type": "code",
   "execution_count": 4,
   "metadata": {
    "collapsed": false,
    "pycharm": {
     "name": "#%%\n"
    }
   },
   "outputs": [
    {
     "name": "stdout",
     "output_type": "stream",
     "text": [
      "(15, 10)\n",
      "(1080, 10)\n",
      "(15, 10)\n",
      "(15, 10)\n",
      "(0, 10)\n"
     ]
    }
   ],
   "source": [
    "\n",
    "# sentences: title + brand + category + description | All have title + description\n",
    "\n",
    "title_na_df = df[df['title'].isnull()]# 根据数据集中'title'列为空的情况筛选出缺失标题的数据子集，并打印其形状\n",
    "print(title_na_df.shape)\n",
    "\n",
    "desc_na_df = df[df['description'].isnull()]# 根据数据集中'description'列为空的情况筛选出缺失描述的数据子集，并打印其形状\n",
    "print(desc_na_df.shape)\n",
    "\n",
    "na_df = df[df['description'].isnull() & df['title'].isnull()]# 筛选出同时缺失'title'和'description'列的数据子集，并打印其形状\n",
    "print(na_df.shape)\n",
    "\n",
    "na3_df = df[df['description'].isnull() & df['title'].isnull() & df['brand'].isnull()]# 筛选出'description'、'title'和'brand'列均为空的数据子集，并打印其形状\n",
    "print(na3_df.shape)\n",
    "\n",
    "na4_df = df[df['description'].isnull() & df['title'].isnull() & df['brand'].isnull() & df['categories'].isnull()]# 筛选出'description'、'title'、'brand'和'categories'列均为空的数据子集，并打印其形状\n",
    "print(na4_df.shape)"
   ]
  },
  {
   "cell_type": "code",
   "execution_count": 5,
   "metadata": {
    "collapsed": false,
    "pycharm": {
     "name": "#%%\n"
    }
   },
   "outputs": [],
   "source": [
    "# 对描述字符串列以及其它几列填充NaN值为普通空格\n",
    "df[desc_str] = df[desc_str].fillna(\" \")\n",
    "df['title'] = df['title'].fillna(\" \")\n",
    "df['brand'] = df['brand'].fillna(\" \")\n",
    "df['categories'] = df['categories'].fillna(\" \")\n"
   ]
  },
  {
   "cell_type": "code",
   "execution_count": 6,
   "metadata": {
    "collapsed": false,
    "pycharm": {
     "name": "#%%\n"
    }
   },
   "outputs": [
    {
     "data": {
      "text/plain": [
       "[\"Cat Sitter DVD Trilogy - Vol 1, Vol 2 and Vol 3   Pet Supplies Cats Toys This combo pack provides you with all 3 Cat Sitter DVD's. Keep your cats entertained morning, noon and night with our hilarious Go Cat Fun Pack DVDs and Catnip. Going out to dinner? Leaving for work? Keep Fluffy distracted and curious with footage of birds, butterflies, chipmunks, fish and more, complete with sound. Go Cat Combo Pack Cat Sitter DVD Set Features: Cat Sitter DVD Volume 1 Cat Sitter DVD Volume 2 Platinum Edition and the latest Cat Sitter Volume 3 - Gone Fishing\",\n",
       " \"Natural Toothpaste - 2-1/2 oz.for dogs St. Jon Pet Supplies Dogs Health Supplies Dental Care Toothpaste In this day and age, we're more concerned and aware of the chemicals and additives in the products we use for our dogs. This toothpaste contains only natural ingredients. No artificial preservatives or additives. Contains natural abrasives to safely remove plaque. For best results use 2 to 3 times a week. Ingredients - sorbitol, purified water, hydrated silica, glycerin, natural flavor (peanut), xathan gum, mushroom extract, sodium copper chlorophyllin, eucalyptus oil, and parsley seed oil. Size: 2 oz Flavor: Peanutw\",\n",
       " 'Solid Gold S.E.P. (Stop Eating Poop) 3.5oz Solid Gold Pet Supplies Dogs Health Supplies Supplements & Vitamins Stop Eating Poop contains Glutamic Acid to deter dogs from eating their own stool. Yucca helps control stool and urine odor. Peppermint and parsley help to eliminate bad breath.',\n",
       " 'Heath Manufacturing S-1-8 Single Hanging Suet Feeder Heath Pet Supplies Birds Feeding & Watering Supplies Feeders Squirrel resistant. Holds one Heath Suet Cake. Vinyl coated wire protects birds feet, tongues and eyes. Prevents rust, stains and bird food contamination.',\n",
       " \"Bergan Stack-N-Stor 40 Stackable Storage Bergan Pet Supplies Cats Feeding & Watering Supplies Food Storage With Bergan's Stack-N-Store 100 Stackable Storage unit you can buy larger bags of food without keeping the bag. With this multi-use stackable storage system you can pet food and treats fresh and close at hand. The lid is designed to keep pet food odors inside the unit while keeping pests out. The Stack-N-Stor 100 holds 24 gallons of dry food. Durable, weatherproof, useful indoors or out. Bergan products are designed to help you enjoy life with your pet.\",\n",
       " 'Cosamin DS Joint Health Supplement, Capsules, 210-Count Bottle Cosamin DS Pet Supplies Dogs Health Supplies Supplements & Vitamins Multivitamins Proven effective in controlled U.S. clinical studies.This bottle contains (1) non-toxic desiccant to help preserve freshness and insure the shelf life of the product.&nbsp;EACH CAPSULE CONTAINS:&nbsp;&nbsp;R.D.A.Glucosamine HCI 99+%500 mg**Sodium Chondroitin Sulfate 95%400 mg**Ascorbate (Manganese Ascorbate)3 mg110%Manganese (Ascorbate)10 mg**R.D.A. Percentage U.S. Recommended Daily Allowance - ** No R.D.A. Established&nbsp;&nbsp;',\n",
       " \"LitterMaid LM500 Automated Litter Box   Pet Supplies Dogs Litter & Housebreaking Litter Boxes This self-cleaning litter box eliminates most odors while  keeping the litter pleasingly fresh for tabby. It's ingenious in  design: a cat entering the box triggers a sensor; the sensor sets a  timer that counts off 10 minutes; then a rake runs through the litter,  scooping out clumps and depositing them in a plastic container at the  box's end; the container is automatically sealed until the next cat  visit, when the raking cycle opens the container for another deposit.  (Four reusable/disposable containers are included.) The litter box can  be plugged into a wall socket (AC adapter included) or operated on  eight D-cell batteries (not included). For safety, the rake stops and reverses at the slightest touch if an  object gets behind the rake while it's returning to its home position.  If a cat re-enters the box before the initial 10 minutes have elapsed,  the timer automatically resets. The litter box is made of hard plastic  and measures 23-1/2 inches long, 16-1/2 inches wide, and 8-1/2 inches  high. For proper operation, it requires premium clumping litter but  does not need as much as a nonautomated litter box of the same size.  For cleaning, the litter tray can be detached. Instructions for  acclimating a cat to the box are included.--Fred Brack\",\n",
       " \"LitterMaid LM900 Mega Self-Cleaning Litter Box   Pet Supplies Cats Litter & Housebreaking Litter Boxes Ideal for a household with a large cat or more than one cat, this big,  self-cleaning litter box eliminates most odors while keeping the litter  pleasingly fresh for tabby. It's ingenious in design: a cat entering the box  triggers a sensor; the sensor sets a timer that counts off 10 minutes; then a  rake runs through the litter, scooping out clumps and depositing them in a  plastic container at the box's end; the container is automatically sealed until  the next cat visit, when the raking cycle opens the container for another  deposit. (Twelve reusable, disposable containers are included, each 13 inches  long, 4 inches wide, and 3-1/2 inches deep.) The litter box can be plugged into  a wall socket (AC adapter included) or operated on eight D-cell batteries (not  included). It comes with a durable carpeted ramp that leads a cat into the box  and cleans its paws on the way out. For safety, the rake stops and reverses at  the slightest touch if an object gets in the way. If a cat re-enters the box  before the initial 10 minutes have elapsed, the timer automatically resets. The  litter box is made of hard plastic and measures 29 inches long, 8-7/8 inches  high, and 16-3/4 inches wide. For proper operation, it requires premium,  clumping litter but does not need as much as a nonautomated litter box of the  same size. For cleaning, the litter tray can be detached. Instructions for  acclimating a cat to the box are included.--Fred Brack\",\n",
       " \"LitterMaid Cat Privacy Tent LitterMaid Pet Supplies Cats Litter & Housebreaking Litter Boxes Designed to fit around LitterMaid's self-cleaning litter boxes  (or any litter box), this roomy tent provides tabby with privacy and  can be set up as a den for play and sleep even without a litter box  inside. It's made of waterproof vinyl and can be wiped out with a damp  cloth or washed in warm, soapy water. Used around a litter box, the  six-sided tent confines litter to the box and keeps it from being  scattered around. It unzips all the way around to provide easy access  for a litter box to be refilled or cleaned. The tent measures 29 inches  long, 18-1/2 inches wide, and 16-3/4 inches high and assembles easily  without tools (instructions included).--Fred Brack\",\n",
       " \"Littermaid Receptacles LitterMaid Pet Supplies Cats Litter & Housebreaking Litter Boxes Usable with LitterMaid's self-cleaning litter box, these 12  reusable/disposable plastic cat-waste receptacles eliminate most waste  odors. They install easily in the ingenious litter box, which  automatically rakes litter 10 minutes after a cat enters and then  deposits waste in one of the receptacles. Each receptacle is 13 inches  long, 4 inches wide, and 3-1/2 inches deep and has a cover that locks  onto the base automatically, sealing the receptacle until a cat visits  the next time.--Fred Brack\"]"
      ]
     },
     "execution_count": 6,
     "metadata": {},
     "output_type": "execute_result"
    }
   ],
   "source": [
    "sentences = []# 初始化一个空列表，用于存储处理后的句子\n",
    "for i, row in df.iterrows():# 遍历DataFrame的每一行，提取并组合需要的信息\n",
    "    sen = row['title'] + ' ' + row['brand'] + ' '# 将标题和品牌信息合并为一个新的句子\n",
    "    cates = eval(row['categories'])# 解析并处理类别信息\n",
    "    if isinstance(cates, list):# 检查类别信息是否为列表，是的话进一步处理\n",
    "        for c in cates[0]:# 将每个类别信息添加到句子中\n",
    "            sen = sen + c + ' '\n",
    "    sen += row[desc_str]# 将描述信息添加到句子中，并替换掉不必要的换行符\n",
    "    sen = sen.replace('\\n', ' ')# 将处理后的句子添加到列表中\n",
    "\n",
    "    sentences.append(sen)\n",
    "\n",
    "sentences[:10]"
   ]
  },
  {
   "cell_type": "code",
   "execution_count": 7,
   "metadata": {
    "collapsed": false,
    "pycharm": {
     "name": "#%%\n"
    }
   },
   "outputs": [],
   "source": [
    "\n",
    "course_list = df[i_id].tolist()\n",
    "#sentences = df[desc_str].tolist()\n",
    "\n",
    "assert course_list[-1] == len(course_list) - 1"
   ]
  },
  {
   "cell_type": "code",
   "execution_count": 8,
   "metadata": {
    "collapsed": true
   },
   "outputs": [
    {
     "name": "stderr",
     "output_type": "stream",
     "text": [
      "/home/bjf/anaconda3/envs/MMRS/lib/python3.9/site-packages/sentence_transformers/cross_encoder/CrossEncoder.py:11: TqdmWarning: IProgress not found. Please update jupyter and ipywidgets. See https://ipywidgets.readthedocs.io/en/stable/user_install.html\n",
      "  from tqdm.autonotebook import tqdm, trange\n",
      "/home/bjf/anaconda3/envs/MMRS/lib/python3.9/site-packages/scipy/__init__.py:155: UserWarning: A NumPy version >=1.18.5 and <1.26.0 is required for this version of SciPy (detected version 1.26.4\n",
      "  warnings.warn(f\"A NumPy version >={np_minversion} and <{np_maxversion}\"\n",
      "/home/bjf/anaconda3/envs/MMRS/lib/python3.9/site-packages/transformers/tokenization_utils_base.py:1601: FutureWarning: `clean_up_tokenization_spaces` was not set. It will be set to `True` by default. This behavior will be depracted in transformers v4.45, and will be then set to `False` by default. For more details check this issue: https://github.com/huggingface/transformers/issues/31884\n",
      "  warnings.warn(\n"
     ]
    },
    {
     "name": "stdout",
     "output_type": "stream",
     "text": [
      "text encoded!\n",
      "done!\n"
     ]
    }
   ],
   "source": [
    "# should `pip install sentence_transformers` first----MMRS环境已安装\n",
    "from sentence_transformers import SentenceTransformer\n",
    "\n",
    "model = SentenceTransformer('sentence-transformers/stsb-roberta-large')# 初始化SentenceTransformer模型，用于文本嵌入#原来的模型使用的是all-MiniLM-L6-v2目前表现不是最优但是速度最快；all-MiniLM-L12-v1性能更好\n",
    "\n",
    "sentence_embeddings = model.encode(sentences)# 对句子列表进行编码，得到句子的嵌入向量\n",
    "print('text encoded!')\n",
    "\n",
    "assert sentence_embeddings.shape[0] == df.shape[0]# 断言编码后的句子嵌入数量与原始数据数量一致\n",
    "np.save(os.path.join(file_path, 'text_feat.npy'), sentence_embeddings)# 将句子嵌入向量保存为Numpy文件\n",
    "print('done!')\n"
   ]
  },
  {
   "cell_type": "code",
   "execution_count": 9,
   "metadata": {
    "collapsed": false,
    "pycharm": {
     "name": "#%%\n"
    }
   },
   "outputs": [
    {
     "data": {
      "text/plain": [
       "array([[ 0.1420442 , -0.01163902, -0.3023617 , ...,  0.6746849 ,\n",
       "        -2.2539864 , -0.4122411 ],\n",
       "       [-0.27704102, -0.40520045, -0.7750341 , ..., -0.12097083,\n",
       "         0.58644056,  0.6641146 ],\n",
       "       [-0.61060876, -0.97433203, -0.2441792 , ...,  0.88061196,\n",
       "        -0.381086  , -0.41241136],\n",
       "       ...,\n",
       "       [-0.04272173, -0.81557673, -1.235492  , ...,  0.49767768,\n",
       "        -0.26564866, -0.36658448],\n",
       "       [-0.08430825,  0.25650015, -1.5931408 , ...,  0.75029767,\n",
       "         0.18671128, -0.12336086],\n",
       "       [-0.30899674, -0.12002388, -0.609143  , ..., -0.13782161,\n",
       "        -0.5503508 ,  0.2284444 ]], dtype=float32)"
      ]
     },
     "execution_count": 9,
     "metadata": {},
     "output_type": "execute_result"
    }
   ],
   "source": [
    "sentence_embeddings[:10]"
   ]
  },
  {
   "cell_type": "code",
   "execution_count": 10,
   "metadata": {
    "collapsed": false,
    "pycharm": {
     "name": "#%%\n"
    }
   },
   "outputs": [
    {
     "name": "stdout",
     "output_type": "stream",
     "text": [
      "(8510, 1024)\n"
     ]
    },
    {
     "data": {
      "text/plain": [
       "array([[ 0.1420442 , -0.01163902, -0.3023617 , ...,  0.6746849 ,\n",
       "        -2.2539864 , -0.4122411 ],\n",
       "       [-0.27704102, -0.40520045, -0.7750341 , ..., -0.12097083,\n",
       "         0.58644056,  0.6641146 ],\n",
       "       [-0.61060876, -0.97433203, -0.2441792 , ...,  0.88061196,\n",
       "        -0.381086  , -0.41241136],\n",
       "       ...,\n",
       "       [-0.04272173, -0.81557673, -1.235492  , ...,  0.49767768,\n",
       "        -0.26564866, -0.36658448],\n",
       "       [-0.08430825,  0.25650015, -1.5931408 , ...,  0.75029767,\n",
       "         0.18671128, -0.12336086],\n",
       "       [-0.30899674, -0.12002388, -0.609143  , ..., -0.13782161,\n",
       "        -0.5503508 ,  0.2284444 ]], dtype=float32)"
      ]
     },
     "execution_count": 10,
     "metadata": {},
     "output_type": "execute_result"
    }
   ],
   "source": [
    "load_txt_feat = np.load('text_feat.npy', allow_pickle=True)\n",
    "print(load_txt_feat.shape)\n",
    "load_txt_feat[:10]"
   ]
  },
  {
   "cell_type": "markdown",
   "metadata": {
    "collapsed": false
   },
   "source": []
  },
  {
   "cell_type": "markdown",
   "metadata": {
    "collapsed": false
   },
   "source": [
    "# Image encoder (V0)，following LATTICE, averaging over for missed items"
   ]
  },
  {
   "cell_type": "code",
   "execution_count": 11,
   "metadata": {
    "collapsed": false,
    "pycharm": {
     "name": "#%%\n"
    }
   },
   "outputs": [
    {
     "data": {
      "text/html": [
       "<div>\n",
       "<style scoped>\n",
       "    .dataframe tbody tr th:only-of-type {\n",
       "        vertical-align: middle;\n",
       "    }\n",
       "\n",
       "    .dataframe tbody tr th {\n",
       "        vertical-align: top;\n",
       "    }\n",
       "\n",
       "    .dataframe thead th {\n",
       "        text-align: right;\n",
       "    }\n",
       "</style>\n",
       "<table border=\"1\" class=\"dataframe\">\n",
       "  <thead>\n",
       "    <tr style=\"text-align: right;\">\n",
       "      <th></th>\n",
       "      <th>itemID</th>\n",
       "      <th>asin</th>\n",
       "      <th>related</th>\n",
       "      <th>title</th>\n",
       "      <th>price</th>\n",
       "      <th>salesRank</th>\n",
       "      <th>imUrl</th>\n",
       "      <th>brand</th>\n",
       "      <th>categories</th>\n",
       "      <th>description</th>\n",
       "    </tr>\n",
       "  </thead>\n",
       "  <tbody>\n",
       "    <tr>\n",
       "      <th>0</th>\n",
       "      <td>0</td>\n",
       "      <td>1223000893</td>\n",
       "      <td>{'also_bought': ['B000G1KNPK', 'B00BYHJ6UI', '...</td>\n",
       "      <td>Cat Sitter DVD Trilogy - Vol 1, Vol 2 and Vol 3</td>\n",
       "      <td>29.50</td>\n",
       "      <td>{'Pet Supplies': 39514}</td>\n",
       "      <td>http://ecx.images-amazon.com/images/I/41yr4bsw...</td>\n",
       "      <td></td>\n",
       "      <td>[['Pet Supplies', 'Cats', 'Toys']]</td>\n",
       "      <td>This combo pack provides you with all 3 Cat Si...</td>\n",
       "    </tr>\n",
       "    <tr>\n",
       "      <th>1</th>\n",
       "      <td>1</td>\n",
       "      <td>4847676011</td>\n",
       "      <td>{'also_bought': ['B006YFZXGG', 'B002KMDNE6', '...</td>\n",
       "      <td>Natural Toothpaste - 2-1/2 oz.for dogs</td>\n",
       "      <td>6.83</td>\n",
       "      <td>{'Pet Supplies': 6424}</td>\n",
       "      <td>http://ecx.images-amazon.com/images/I/41RnSg%2...</td>\n",
       "      <td>St. Jon</td>\n",
       "      <td>[['Pet Supplies', 'Dogs', 'Health Supplies', '...</td>\n",
       "      <td>In this day and age, we're more concerned and ...</td>\n",
       "    </tr>\n",
       "    <tr>\n",
       "      <th>2</th>\n",
       "      <td>2</td>\n",
       "      <td>9376674824</td>\n",
       "      <td>{'also_bought': ['B000JMJ4CE', 'B003FVK47A', '...</td>\n",
       "      <td>Solid Gold S.E.P. (Stop Eating Poop) 3.5oz</td>\n",
       "      <td>10.77</td>\n",
       "      <td>{'Pet Supplies': 5295}</td>\n",
       "      <td>http://ecx.images-amazon.com/images/I/41S0Ds8n...</td>\n",
       "      <td>Solid Gold</td>\n",
       "      <td>[['Pet Supplies', 'Dogs', 'Health Supplies', '...</td>\n",
       "      <td>Stop Eating Poop contains Glutamic Acid to det...</td>\n",
       "    </tr>\n",
       "    <tr>\n",
       "      <th>3</th>\n",
       "      <td>3</td>\n",
       "      <td>B00002N8FK</td>\n",
       "      <td>{'also_bought': ['B000IGGFEQ', 'B000IGGH6W', '...</td>\n",
       "      <td>Heath Manufacturing S-1-8 Single Hanging Suet ...</td>\n",
       "      <td>1.77</td>\n",
       "      <td>{'Patio, Lawn &amp; Garden': 51680}</td>\n",
       "      <td>http://ecx.images-amazon.com/images/I/51JbAY9m...</td>\n",
       "      <td>Heath</td>\n",
       "      <td>[['Pet Supplies', 'Birds', 'Feeding &amp; Watering...</td>\n",
       "      <td>Squirrel resistant. Holds one Heath Suet Cake....</td>\n",
       "    </tr>\n",
       "    <tr>\n",
       "      <th>4</th>\n",
       "      <td>4</td>\n",
       "      <td>B00004X14K</td>\n",
       "      <td>{'also_bought': ['B0002ASCQ2', 'B000QS5B6Y', '...</td>\n",
       "      <td>Bergan Stack-N-Stor 40 Stackable Storage</td>\n",
       "      <td>22.85</td>\n",
       "      <td>{'Pet Supplies': 3960}</td>\n",
       "      <td>http://ecx.images-amazon.com/images/I/41AvjdJU...</td>\n",
       "      <td>Bergan</td>\n",
       "      <td>[['Pet Supplies', 'Cats', 'Feeding &amp; Watering ...</td>\n",
       "      <td>With Bergan's Stack-N-Store 100 Stackable Stor...</td>\n",
       "    </tr>\n",
       "  </tbody>\n",
       "</table>\n",
       "</div>"
      ],
      "text/plain": [
       "   itemID        asin                                            related  \\\n",
       "0       0  1223000893  {'also_bought': ['B000G1KNPK', 'B00BYHJ6UI', '...   \n",
       "1       1  4847676011  {'also_bought': ['B006YFZXGG', 'B002KMDNE6', '...   \n",
       "2       2  9376674824  {'also_bought': ['B000JMJ4CE', 'B003FVK47A', '...   \n",
       "3       3  B00002N8FK  {'also_bought': ['B000IGGFEQ', 'B000IGGH6W', '...   \n",
       "4       4  B00004X14K  {'also_bought': ['B0002ASCQ2', 'B000QS5B6Y', '...   \n",
       "\n",
       "                                               title  price  \\\n",
       "0    Cat Sitter DVD Trilogy - Vol 1, Vol 2 and Vol 3  29.50   \n",
       "1             Natural Toothpaste - 2-1/2 oz.for dogs   6.83   \n",
       "2         Solid Gold S.E.P. (Stop Eating Poop) 3.5oz  10.77   \n",
       "3  Heath Manufacturing S-1-8 Single Hanging Suet ...   1.77   \n",
       "4           Bergan Stack-N-Stor 40 Stackable Storage  22.85   \n",
       "\n",
       "                         salesRank  \\\n",
       "0          {'Pet Supplies': 39514}   \n",
       "1           {'Pet Supplies': 6424}   \n",
       "2           {'Pet Supplies': 5295}   \n",
       "3  {'Patio, Lawn & Garden': 51680}   \n",
       "4           {'Pet Supplies': 3960}   \n",
       "\n",
       "                                               imUrl       brand  \\\n",
       "0  http://ecx.images-amazon.com/images/I/41yr4bsw...               \n",
       "1  http://ecx.images-amazon.com/images/I/41RnSg%2...     St. Jon   \n",
       "2  http://ecx.images-amazon.com/images/I/41S0Ds8n...  Solid Gold   \n",
       "3  http://ecx.images-amazon.com/images/I/51JbAY9m...       Heath   \n",
       "4  http://ecx.images-amazon.com/images/I/41AvjdJU...      Bergan   \n",
       "\n",
       "                                          categories  \\\n",
       "0                 [['Pet Supplies', 'Cats', 'Toys']]   \n",
       "1  [['Pet Supplies', 'Dogs', 'Health Supplies', '...   \n",
       "2  [['Pet Supplies', 'Dogs', 'Health Supplies', '...   \n",
       "3  [['Pet Supplies', 'Birds', 'Feeding & Watering...   \n",
       "4  [['Pet Supplies', 'Cats', 'Feeding & Watering ...   \n",
       "\n",
       "                                         description  \n",
       "0  This combo pack provides you with all 3 Cat Si...  \n",
       "1  In this day and age, we're more concerned and ...  \n",
       "2  Stop Eating Poop contains Glutamic Acid to det...  \n",
       "3  Squirrel resistant. Holds one Heath Suet Cake....  \n",
       "4  With Bergan's Stack-N-Store 100 Stackable Stor...  "
      ]
     },
     "execution_count": 11,
     "metadata": {},
     "output_type": "execute_result"
    }
   ],
   "source": [
    "df[:5]"
   ]
  },
  {
   "cell_type": "code",
   "execution_count": 12,
   "metadata": {
    "collapsed": false,
    "pycharm": {
     "name": "#%%\n"
    }
   },
   "outputs": [],
   "source": [
    "import array\n",
    "\n",
    "def readImageFeatures(path):\n",
    "  f = open(path, 'rb')\n",
    "  while True:\n",
    "    asin = f.read(10).decode('UTF-8')\n",
    "    if asin == '': break\n",
    "    a = array.array('f')\n",
    "    a.fromfile(f, 4096)\n",
    "    yield asin, a.tolist()"
   ]
  },
  {
   "cell_type": "code",
   "execution_count": 13,
   "metadata": {
    "collapsed": false,
    "pycharm": {
     "name": "#%%\n"
    }
   },
   "outputs": [
    {
     "name": "stdout",
     "output_type": "stream",
     "text": [
      "# of items not in processed image features: 74\n",
      "done!\n"
     ]
    }
   ],
   "source": [
    "# 读取图像特征数据\n",
    "img_data = readImageFeatures(\"image_features_Pet_Supplies.b\")\n",
    "item2id = dict(zip(df['asin'], df['itemID']))# 将商品ID（asin）映射到项目ID（itemID）\n",
    "# 初始化图像特征字典和平均特征列表\n",
    "feats = {}\n",
    "avg = []\n",
    "for d in img_data:\n",
    "    if d[0] in item2id:\n",
    "        feats[int(item2id[d[0]])] = d[1]\n",
    "        avg.append(d[1])\n",
    "avg = np.array(avg).mean(0).tolist()# 将平均特征转换为列表\n",
    "# 初始化最终特征列表和未找到特征的项目ID列表\n",
    "ret = []\n",
    "non_no = []\n",
    "for i in range(len(item2id)):# 遍历所有项目ID，如果存在特征则添加，否则添加平均特征，并记录未找到特征的项目ID\n",
    "    if i in feats:\n",
    "        ret.append(feats[i])\n",
    "    else:\n",
    "        non_no.append(i)\n",
    "        ret.append(avg)\n",
    "\n",
    "print('# of items not in processed image features:', len(non_no))# 打印未在处理的图像特征中找到的项目数量\n",
    "assert len(ret) == len(item2id)# 确保特征列表和项目ID字典的长度相同\n",
    "np.save('image_feat.npy', np.array(ret))# 保存图像特征和未找到特征的项目ID\n",
    "np.savetxt(\"missed_img_itemIDs.csv\", non_no, delimiter =\",\", fmt ='%d')\n",
    "print('done!')"
   ]
  }
 ],
 "metadata": {
  "kernelspec": {
   "display_name": "MMRS",
   "language": "python",
   "name": "python3"
  },
  "language_info": {
   "codemirror_mode": {
    "name": "ipython",
    "version": 3
   },
   "file_extension": ".py",
   "mimetype": "text/x-python",
   "name": "python",
   "nbconvert_exporter": "python",
   "pygments_lexer": "ipython3",
   "version": "3.9.19"
  }
 },
 "nbformat": 4,
 "nbformat_minor": 0
}
